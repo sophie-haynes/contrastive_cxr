{
 "cells": [
  {
   "cell_type": "markdown",
   "id": "6147b464-5ffc-4971-a4b6-90309d059c05",
   "metadata": {},
   "source": [
    "# Run Contrastive Pair Experiments"
   ]
  },
  {
   "cell_type": "markdown",
   "id": "cfb013e5-18eb-4a29-b59d-4d75e11b3eb5",
   "metadata": {},
   "source": [
    "This notebook provides reference on how to run each variation of the experiment.\n",
    "\n",
    "Args:\n",
    "- `--model_name`: \"rgb\", \"grey\", \"single\", \"rad\"\n",
    "- `--resize_dim`: default 224\n",
    "- `--dataset_path`: default \"../split_node\", set to directory containing \"train\" and \"test\"\n",
    "- `--process`: \"lung_seg\", \"crop\", \"arch_seg\"\n",
    "- `--bsz`: default 64\n",
    "- `--cache_in_ram`: Add flag to pre-load data into RAM - massive speed up\n",
    "- `--symmetrical_transforms`: Add flag to apply identical transforms to each image in pair\n",
    "- `--freeze_backbone`: Add flag to freeze backbone\n",
    "- `--margin`: default 1.0\n",
    "- `--distance`: \"euclidean\", \"cosine\"\n",
    "- `--lr`: default 0.001\n",
    "- `--epochs`: default 100"
   ]
  },
  {
   "cell_type": "code",
   "execution_count": null,
   "id": "1e08eb96-f6ea-4750-bd10-bb3e94ca9a27",
   "metadata": {},
   "outputs": [],
   "source": [
    "!python run_contrastive_pair.py \n",
    "--model_name rad \n",
    "--process lung_seg \n",
    "--cache_in_ram \n",
    "--symmetrical_transforms \n",
    "--freeze_backbone \n",
    "--distance \"euclidean\" > logs/rad_lung_cosine_freeze.txt"
   ]
  },
  {
   "cell_type": "code",
   "execution_count": 2,
   "id": "f7d53946-803a-41ff-851b-f9dd28c71416",
   "metadata": {},
   "outputs": [
    {
     "name": "stdout",
     "output_type": "stream",
     "text": [
      "Loading dataset: 100%|████████████████████████████| 2/2 [00:01<00:00,  1.59it/s]\n",
      "Caching: 100%|█████████████████████████████| 5162/5162 [00:28<00:00, 181.17it/s]\n"
     ]
    }
   ],
   "source": [
    "!python run_contrastive_pair.py \\\n",
    "--model_name rgb \\\n",
    "--process lung_seg \\\n",
    "--cache_in_ram \\\n",
    "--symmetrical_transforms \\\n",
    "--freeze_backbone \\\n",
    "--distance \"euclidean\" > logs/rgb_lung_euclid_freeze.txt"
   ]
  },
  {
   "cell_type": "code",
   "execution_count": null,
   "id": "2bed600d-1746-4ee6-b1f8-ef4c8205a9d1",
   "metadata": {},
   "outputs": [
    {
     "name": "stdout",
     "output_type": "stream",
     "text": [
      "Loading dataset: 100%|████████████████████████████| 2/2 [00:05<00:00,  2.95s/it]\n",
      "Caching: 100%|█████████████████████████████| 5162/5162 [00:38<00:00, 135.39it/s]\n"
     ]
    }
   ],
   "source": [
    "!python run_contrastive_pair.py \\\n",
    "--model_name grey \\\n",
    "--process lung_seg \\\n",
    "--cache_in_ram \\\n",
    "--symmetrical_transforms \\\n",
    "--freeze_backbone \\\n",
    "--distance \"euclidean\" > logs/grey_lung_euclid_freeze.txt"
   ]
  },
  {
   "cell_type": "code",
   "execution_count": null,
   "id": "ae672ad5-8a93-4032-99c7-e1c7b10e73be",
   "metadata": {},
   "outputs": [],
   "source": [
    "python run_contrastive_pair.py --model_name rgb --process lung_seg --cache_in_ram --symmetrical_transforms --freeze_backbone --distance \"cosine\" > logs/rgb_lung_cosine_freeze.txt"
   ]
  },
  {
   "cell_type": "code",
   "execution_count": null,
   "id": "86b6f5b0-670e-4d4a-8b8d-00b7890bd402",
   "metadata": {},
   "outputs": [],
   "source": []
  }
 ],
 "metadata": {
  "kernelspec": {
   "display_name": "Python 3 (ipykernel)",
   "language": "python",
   "name": "python3"
  },
  "language_info": {
   "codemirror_mode": {
    "name": "ipython",
    "version": 3
   },
   "file_extension": ".py",
   "mimetype": "text/x-python",
   "name": "python",
   "nbconvert_exporter": "python",
   "pygments_lexer": "ipython3",
   "version": "3.11.8"
  }
 },
 "nbformat": 4,
 "nbformat_minor": 5
}
